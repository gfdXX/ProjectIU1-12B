{
 "cells": [
  {
   "cell_type": "code",
   "execution_count": 8,
   "id": "a00da225",
   "metadata": {},
   "outputs": [
    {
     "data": {
      "text/plain": [
       "2"
      ]
     },
     "execution_count": 8,
     "metadata": {},
     "output_type": "execute_result"
    }
   ],
   "source": [
    "int(2.3)"
   ]
  },
  {
   "cell_type": "code",
   "execution_count": 10,
   "id": "cc64526c",
   "metadata": {},
   "outputs": [
    {
     "data": {
      "text/plain": [
       "0.4"
      ]
     },
     "execution_count": 10,
     "metadata": {},
     "output_type": "execute_result"
    }
   ],
   "source": [
    "float(\".4\")"
   ]
  },
  {
   "cell_type": "code",
   "execution_count": null,
   "id": "8f7177d3",
   "metadata": {},
   "outputs": [],
   "source": []
  },
  {
   "cell_type": "markdown",
   "id": "d6ce90ac",
   "metadata": {},
   "source": [
    "#Условный оператор"
   ]
  },
  {
   "cell_type": "markdown",
   "id": "a6d5279d",
   "metadata": {},
   "source": [
    "if условие:\n",
    "код который выполняется, если будет выполнено условие - True"
   ]
  },
  {
   "cell_type": "code",
   "execution_count": 11,
   "id": "cfec8031",
   "metadata": {},
   "outputs": [
    {
     "data": {
      "text/plain": [
       "False"
      ]
     },
     "execution_count": 11,
     "metadata": {},
     "output_type": "execute_result"
    }
   ],
   "source": [
    "2>3"
   ]
  },
  {
   "cell_type": "code",
   "execution_count": 12,
   "id": "050ddec3",
   "metadata": {},
   "outputs": [
    {
     "name": "stdout",
     "output_type": "stream",
     "text": [
      "Conition is True.\n"
     ]
    }
   ],
   "source": [
    "if True:\n",
    "    print(\"Conition is True.\")"
   ]
  },
  {
   "cell_type": "code",
   "execution_count": 28,
   "id": "4b26b5c2",
   "metadata": {},
   "outputs": [],
   "source": [
    "if False:\n",
    "    print(\"You will never see me.\")"
   ]
  },
  {
   "cell_type": "code",
   "execution_count": 29,
   "id": "6e997558",
   "metadata": {},
   "outputs": [
    {
     "name": "stdout",
     "output_type": "stream",
     "text": [
      "4**5 > 5**4\n"
     ]
    }
   ],
   "source": [
    "if 4**5 > 5**4: #1025 > 625\n",
    "    print(\"4**5 > 5**4\")\n",
    "else:\n",
    "    print(\"4**5 <= 5**4\")"
   ]
  },
  {
   "cell_type": "markdown",
   "id": "816aad2a",
   "metadata": {},
   "source": [
    "#Переменные"
   ]
  },
  {
   "cell_type": "code",
   "execution_count": 30,
   "id": "a1017936",
   "metadata": {},
   "outputs": [],
   "source": [
    "a = 1"
   ]
  },
  {
   "cell_type": "code",
   "execution_count": 31,
   "id": "606326cb",
   "metadata": {},
   "outputs": [
    {
     "data": {
      "text/plain": [
       "1"
      ]
     },
     "execution_count": 31,
     "metadata": {},
     "output_type": "execute_result"
    }
   ],
   "source": [
    "1"
   ]
  },
  {
   "cell_type": "code",
   "execution_count": 32,
   "id": "4aa83a91",
   "metadata": {},
   "outputs": [
    {
     "data": {
      "text/plain": [
       "1"
      ]
     },
     "execution_count": 32,
     "metadata": {},
     "output_type": "execute_result"
    }
   ],
   "source": [
    "a"
   ]
  },
  {
   "cell_type": "code",
   "execution_count": 33,
   "id": "194358ad",
   "metadata": {},
   "outputs": [
    {
     "name": "stdout",
     "output_type": "stream",
     "text": [
      "1\n"
     ]
    }
   ],
   "source": [
    "print(a)"
   ]
  },
  {
   "cell_type": "code",
   "execution_count": 34,
   "id": "3f2da34b",
   "metadata": {},
   "outputs": [
    {
     "data": {
      "text/plain": [
       "int"
      ]
     },
     "execution_count": 34,
     "metadata": {},
     "output_type": "execute_result"
    }
   ],
   "source": [
    "type(a)"
   ]
  },
  {
   "cell_type": "code",
   "execution_count": 39,
   "id": "37eb4771",
   "metadata": {},
   "outputs": [],
   "source": [
    "b = 1.3"
   ]
  },
  {
   "cell_type": "code",
   "execution_count": 40,
   "id": "aa2e8d09",
   "metadata": {},
   "outputs": [
    {
     "data": {
      "text/plain": [
       "float"
      ]
     },
     "execution_count": 40,
     "metadata": {},
     "output_type": "execute_result"
    }
   ],
   "source": [
    "type(b)"
   ]
  },
  {
   "cell_type": "code",
   "execution_count": 41,
   "id": "b9f0f2fa",
   "metadata": {},
   "outputs": [],
   "source": [
    "c = True"
   ]
  },
  {
   "cell_type": "code",
   "execution_count": 42,
   "id": "130ff004",
   "metadata": {},
   "outputs": [
    {
     "data": {
      "text/plain": [
       "bool"
      ]
     },
     "execution_count": 42,
     "metadata": {},
     "output_type": "execute_result"
    }
   ],
   "source": [
    "type(c)"
   ]
  },
  {
   "cell_type": "code",
   "execution_count": 43,
   "id": "0c0a7024",
   "metadata": {},
   "outputs": [],
   "source": [
    "d = \"str\""
   ]
  },
  {
   "cell_type": "code",
   "execution_count": 44,
   "id": "b13e7dc9",
   "metadata": {},
   "outputs": [
    {
     "data": {
      "text/plain": [
       "str"
      ]
     },
     "execution_count": 44,
     "metadata": {},
     "output_type": "execute_result"
    }
   ],
   "source": [
    "type(d)"
   ]
  },
  {
   "cell_type": "code",
   "execution_count": 45,
   "id": "1b096349",
   "metadata": {},
   "outputs": [
    {
     "name": "stdout",
     "output_type": "stream",
     "text": [
      "2**1 > 1**2\n"
     ]
    }
   ],
   "source": [
    "a = 2\n",
    "b = 1\n",
    "if a**b > b**a:\n",
    "    print(str(a)+\"**\"+str(b) + \" > \" +str(b) + \"**\" + str(a))\n",
    "else:\n",
    "     print(str(a)+\"**\"+str(b) + \" <= \" +str(b) + \"**\" + str(a))\n"
   ]
  },
  {
   "cell_type": "code",
   "execution_count": 46,
   "id": "42901bbb",
   "metadata": {},
   "outputs": [
    {
     "name": "stdout",
     "output_type": "stream",
     "text": [
      "4\n"
     ]
    }
   ],
   "source": [
    "value = input()"
   ]
  },
  {
   "cell_type": "code",
   "execution_count": 47,
   "id": "45caa67d",
   "metadata": {},
   "outputs": [
    {
     "name": "stdout",
     "output_type": "stream",
     "text": [
      "4\n"
     ]
    }
   ],
   "source": [
    "print(value)"
   ]
  },
  {
   "cell_type": "code",
   "execution_count": 48,
   "id": "35eb6165",
   "metadata": {},
   "outputs": [
    {
     "data": {
      "text/plain": [
       "str"
      ]
     },
     "execution_count": 48,
     "metadata": {},
     "output_type": "execute_result"
    }
   ],
   "source": [
    "type(value)"
   ]
  },
  {
   "cell_type": "code",
   "execution_count": 49,
   "id": "fee122eb",
   "metadata": {},
   "outputs": [
    {
     "name": "stdout",
     "output_type": "stream",
     "text": [
      "2\n",
      "3\n",
      "2**3 <= 3**2\n"
     ]
    }
   ],
   "source": [
    "a = int(input())\n",
    "b = int(input())\n",
    "if a**b > b**a:\n",
    "    print(str(a)+\"**\"+str(b) + \" > \" +str(b) + \"**\" + str(a))\n",
    "else:\n",
    "     print(str(a)+\"**\"+str(b) + \" <= \" +str(b) + \"**\" + str(a))"
   ]
  }
 ],
 "metadata": {
  "kernelspec": {
   "display_name": "Python 3 (ipykernel)",
   "language": "python",
   "name": "python3"
  },
  "language_info": {
   "codemirror_mode": {
    "name": "ipython",
    "version": 3
   },
   "file_extension": ".py",
   "mimetype": "text/x-python",
   "name": "python",
   "nbconvert_exporter": "python",
   "pygments_lexer": "ipython3",
   "version": "3.9.7"
  }
 },
 "nbformat": 4,
 "nbformat_minor": 5
}
